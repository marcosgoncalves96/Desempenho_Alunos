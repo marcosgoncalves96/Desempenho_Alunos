{
 "cells": [
  {
   "cell_type": "markdown",
   "id": "d8466bef-5101-4af9-8496-bb4386afc942",
   "metadata": {},
   "source": [
    "# Análise de Desempenho do Aluno"
   ]
  },
  {
   "cell_type": "markdown",
   "id": "7e911741-7f33-4277-aafc-db1443f5cbdf",
   "metadata": {},
   "source": [
    "Este conjunto de dados contém informações sobre o desempenho de alunos em um teste realizado com as matérias matemática, leitura e escrita incluindo suas pontuações e informações de genero e demais informações conforme descrito abaixo."
   ]
  },
  {
   "cell_type": "markdown",
   "id": "400738d2-e96a-4e4e-8d7f-618df3825e94",
   "metadata": {},
   "source": [
    "O foco desta análise é mostrar a sua distribuição e fazer alguns comparativos e correlação.  "
   ]
  },
  {
   "cell_type": "markdown",
   "id": "0313accb-47c9-4b8e-ac3e-7f7c9664b45e",
   "metadata": {},
   "source": [
    "## Dicionário de Dados\n"
   ]
  },
  {
   "cell_type": "markdown",
   "id": "90c1660d-ecb9-4487-86cc-55ec0dc3b5f5",
   "metadata": {},
   "source": [
    "• **Genero:** O gênero do aluno - masculino (Male) / feminino (female)\n",
    "\n",
    "• **Raça/etnia:** A origem racial ou étnica do aluno (Classificado por grupos, sendo do A ao E)\n",
    "\n",
    "• **Nível de educação dos pais:** O nível mais alto de educação alcançado pelos pais ou responsáveis ​​do aluno \n",
    "\n",
    "|Descrição| Tradução|\n",
    "|------|-------------|\n",
    "|Some college| Possui alguma faculdade|\n",
    "|High school | Ensino médio|\n",
    "|Associate's degree | Graduação técnica |\n",
    "|Some high school   | Ensino médio (completo ou não)  |\n",
    "|Bachelor's degree  | Diploma de bacharel|\n",
    "|Master's degree    | Diploma de mestrado|\n",
    "\n",
    "• **Alimentação:** Se o aluno recebe almoço gratuito/ com preço reduzido ou se é preço padrão\n",
    "\n",
    "• **Curso de preparação para teste:** se o aluno concluiu um curso de preparação para teste (completo/ não)\n",
    "\n",
    "• **Pontuação de matemática:** a pontuação do aluno em um teste de matemática (Até 100 pontos)\n",
    "\n",
    "• **Pontuação de leitura:** a pontuação do aluno em um teste de leitura (Até 100 pontos)\n",
    "\n",
    "• **Pontuação de escrita:** a pontuação do aluno em um teste de escrita (Até 100 pontos)\n"
   ]
  },
  {
   "cell_type": "markdown",
   "id": "65a24495-fc66-48d3-a40d-abc3a6aef618",
   "metadata": {},
   "source": [
    "Este conjunto de dados pode ser usado para várias questões de pesquisa relacionadas à educação, como examinar o impacto da educação parental ou cursos de preparação para testes no desempenho do aluno. Ele também pode ser usado para desenvolver modelos de aprendizado de máquina para prever o desempenho do aluno com base em fatores demográficos e outros.\n",
    "\n",
    "Os dados utilizados foram do [**Keaggle**](https://www.kaggle.com/datasets/rkiattisak/student-performance-in-mathematics?resource=download)"
   ]
  },
  {
   "cell_type": "markdown",
   "id": "422e058a-d201-4a87-b5c8-47c22bd871c1",
   "metadata": {
    "jp-MarkdownHeadingCollapsed": true
   },
   "source": [
    "## Importando Biliotecas"
   ]
  },
  {
   "cell_type": "code",
   "execution_count": 5,
   "id": "44717275-6898-4720-a338-5abb4b0333eb",
   "metadata": {},
   "outputs": [],
   "source": [
    "import pandas as pd\n",
    "import numpy as np\n",
    "import matplotlib.pyplot as plt\n",
    "import seaborn as sns"
   ]
  },
  {
   "cell_type": "markdown",
   "id": "fd027d27-6679-49bb-b8c8-f4237433a6ec",
   "metadata": {
    "jp-MarkdownHeadingCollapsed": true
   },
   "source": [
    "## Carregando a base de dados"
   ]
  },
  {
   "cell_type": "code",
   "execution_count": 6,
   "id": "8342dfd7-2a6c-4e3d-9dfa-94f3e1fc3b03",
   "metadata": {},
   "outputs": [],
   "source": [
    "df = pd.read_csv('exams.csv')"
   ]
  },
  {
   "cell_type": "markdown",
   "id": "a24b68a3-2801-4206-b253-88b9b712ab92",
   "metadata": {},
   "source": [
    "## Visualização inicial dos dados"
   ]
  },
  {
   "cell_type": "code",
   "execution_count": 7,
   "id": "035547d3-c70b-4f99-87e0-9ad4d33cc508",
   "metadata": {},
   "outputs": [
    {
     "data": {
      "text/html": [
       "<div>\n",
       "<style scoped>\n",
       "    .dataframe tbody tr th:only-of-type {\n",
       "        vertical-align: middle;\n",
       "    }\n",
       "\n",
       "    .dataframe tbody tr th {\n",
       "        vertical-align: top;\n",
       "    }\n",
       "\n",
       "    .dataframe thead th {\n",
       "        text-align: right;\n",
       "    }\n",
       "</style>\n",
       "<table border=\"1\" class=\"dataframe\">\n",
       "  <thead>\n",
       "    <tr style=\"text-align: right;\">\n",
       "      <th></th>\n",
       "      <th>gender</th>\n",
       "      <th>race/ethnicity</th>\n",
       "      <th>parental level of education</th>\n",
       "      <th>lunch</th>\n",
       "      <th>test preparation course</th>\n",
       "      <th>math score</th>\n",
       "      <th>reading score</th>\n",
       "      <th>writing score</th>\n",
       "    </tr>\n",
       "  </thead>\n",
       "  <tbody>\n",
       "    <tr>\n",
       "      <th>0</th>\n",
       "      <td>female</td>\n",
       "      <td>group D</td>\n",
       "      <td>some college</td>\n",
       "      <td>standard</td>\n",
       "      <td>completed</td>\n",
       "      <td>59</td>\n",
       "      <td>70</td>\n",
       "      <td>78</td>\n",
       "    </tr>\n",
       "    <tr>\n",
       "      <th>1</th>\n",
       "      <td>male</td>\n",
       "      <td>group D</td>\n",
       "      <td>associate's degree</td>\n",
       "      <td>standard</td>\n",
       "      <td>none</td>\n",
       "      <td>96</td>\n",
       "      <td>93</td>\n",
       "      <td>87</td>\n",
       "    </tr>\n",
       "    <tr>\n",
       "      <th>2</th>\n",
       "      <td>female</td>\n",
       "      <td>group D</td>\n",
       "      <td>some college</td>\n",
       "      <td>free/reduced</td>\n",
       "      <td>none</td>\n",
       "      <td>57</td>\n",
       "      <td>76</td>\n",
       "      <td>77</td>\n",
       "    </tr>\n",
       "  </tbody>\n",
       "</table>\n",
       "</div>"
      ],
      "text/plain": [
       "   gender race/ethnicity parental level of education         lunch  \\\n",
       "0  female        group D                some college      standard   \n",
       "1    male        group D          associate's degree      standard   \n",
       "2  female        group D                some college  free/reduced   \n",
       "\n",
       "  test preparation course  math score  reading score  writing score  \n",
       "0               completed          59             70             78  \n",
       "1                    none          96             93             87  \n",
       "2                    none          57             76             77  "
      ]
     },
     "execution_count": 7,
     "metadata": {},
     "output_type": "execute_result"
    }
   ],
   "source": [
    "df.head(3)"
   ]
  },
  {
   "cell_type": "markdown",
   "id": "031b4260-30d7-45d1-b9d8-625c70b69307",
   "metadata": {
    "jp-MarkdownHeadingCollapsed": true
   },
   "source": [
    "## Renomeando as colunas para facilitar o entendimento dos dados"
   ]
  },
  {
   "cell_type": "code",
   "execution_count": 8,
   "id": "fbe830de-1b71-4a0f-9e1e-b561ffc08ac4",
   "metadata": {},
   "outputs": [],
   "source": [
    "df.columns = ['Genero', 'Raca_Etnia', 'Nivel_Educacao_dos_Pais', 'Alimentacao', 'Curso_Preparatorio_Teste',\n",
    "              'Pontos_Matematica', 'Pontos_Leitura', 'Pontos_Escrita']"
   ]
  },
  {
   "cell_type": "code",
   "execution_count": 9,
   "id": "b72dbc89-42aa-44b1-ac13-e0f7838cb4c9",
   "metadata": {},
   "outputs": [
    {
     "data": {
      "text/html": [
       "<div>\n",
       "<style scoped>\n",
       "    .dataframe tbody tr th:only-of-type {\n",
       "        vertical-align: middle;\n",
       "    }\n",
       "\n",
       "    .dataframe tbody tr th {\n",
       "        vertical-align: top;\n",
       "    }\n",
       "\n",
       "    .dataframe thead th {\n",
       "        text-align: right;\n",
       "    }\n",
       "</style>\n",
       "<table border=\"1\" class=\"dataframe\">\n",
       "  <thead>\n",
       "    <tr style=\"text-align: right;\">\n",
       "      <th></th>\n",
       "      <th>Genero</th>\n",
       "      <th>Raca_Etnia</th>\n",
       "      <th>Nivel_Educacao_dos_Pais</th>\n",
       "      <th>Alimentacao</th>\n",
       "      <th>Curso_Preparatorio_Teste</th>\n",
       "      <th>Pontos_Matematica</th>\n",
       "      <th>Pontos_Leitura</th>\n",
       "      <th>Pontos_Escrita</th>\n",
       "    </tr>\n",
       "  </thead>\n",
       "  <tbody>\n",
       "    <tr>\n",
       "      <th>0</th>\n",
       "      <td>female</td>\n",
       "      <td>group D</td>\n",
       "      <td>some college</td>\n",
       "      <td>standard</td>\n",
       "      <td>completed</td>\n",
       "      <td>59</td>\n",
       "      <td>70</td>\n",
       "      <td>78</td>\n",
       "    </tr>\n",
       "    <tr>\n",
       "      <th>1</th>\n",
       "      <td>male</td>\n",
       "      <td>group D</td>\n",
       "      <td>associate's degree</td>\n",
       "      <td>standard</td>\n",
       "      <td>none</td>\n",
       "      <td>96</td>\n",
       "      <td>93</td>\n",
       "      <td>87</td>\n",
       "    </tr>\n",
       "    <tr>\n",
       "      <th>2</th>\n",
       "      <td>female</td>\n",
       "      <td>group D</td>\n",
       "      <td>some college</td>\n",
       "      <td>free/reduced</td>\n",
       "      <td>none</td>\n",
       "      <td>57</td>\n",
       "      <td>76</td>\n",
       "      <td>77</td>\n",
       "    </tr>\n",
       "    <tr>\n",
       "      <th>3</th>\n",
       "      <td>male</td>\n",
       "      <td>group B</td>\n",
       "      <td>some college</td>\n",
       "      <td>free/reduced</td>\n",
       "      <td>none</td>\n",
       "      <td>70</td>\n",
       "      <td>70</td>\n",
       "      <td>63</td>\n",
       "    </tr>\n",
       "    <tr>\n",
       "      <th>4</th>\n",
       "      <td>female</td>\n",
       "      <td>group D</td>\n",
       "      <td>associate's degree</td>\n",
       "      <td>standard</td>\n",
       "      <td>none</td>\n",
       "      <td>83</td>\n",
       "      <td>85</td>\n",
       "      <td>86</td>\n",
       "    </tr>\n",
       "  </tbody>\n",
       "</table>\n",
       "</div>"
      ],
      "text/plain": [
       "   Genero Raca_Etnia Nivel_Educacao_dos_Pais   Alimentacao  \\\n",
       "0  female    group D            some college      standard   \n",
       "1    male    group D      associate's degree      standard   \n",
       "2  female    group D            some college  free/reduced   \n",
       "3    male    group B            some college  free/reduced   \n",
       "4  female    group D      associate's degree      standard   \n",
       "\n",
       "  Curso_Preparatorio_Teste  Pontos_Matematica  Pontos_Leitura  Pontos_Escrita  \n",
       "0                completed                 59              70              78  \n",
       "1                     none                 96              93              87  \n",
       "2                     none                 57              76              77  \n",
       "3                     none                 70              70              63  \n",
       "4                     none                 83              85              86  "
      ]
     },
     "execution_count": 9,
     "metadata": {},
     "output_type": "execute_result"
    }
   ],
   "source": [
    "df.head()"
   ]
  },
  {
   "cell_type": "markdown",
   "id": "1180b86a-fc2d-4123-9b45-3cb6004ddbf0",
   "metadata": {
    "jp-MarkdownHeadingCollapsed": true
   },
   "source": [
    "## Informações sobre a base de dados\n",
    "\n",
    "- A base possui 1.000 linhas e 8 coluna, as informações de pontuação já estão com o tipo no formato int, não sendo necessário ajustes e não possui dados nulos"
   ]
  },
  {
   "cell_type": "code",
   "execution_count": 10,
   "id": "591f1651-7e3b-4ca5-8f72-95ac8b1e0292",
   "metadata": {},
   "outputs": [
    {
     "name": "stdout",
     "output_type": "stream",
     "text": [
      "<class 'pandas.core.frame.DataFrame'>\n",
      "RangeIndex: 1000 entries, 0 to 999\n",
      "Data columns (total 8 columns):\n",
      " #   Column                    Non-Null Count  Dtype \n",
      "---  ------                    --------------  ----- \n",
      " 0   Genero                    1000 non-null   object\n",
      " 1   Raca_Etnia                1000 non-null   object\n",
      " 2   Nivel_Educacao_dos_Pais   1000 non-null   object\n",
      " 3   Alimentacao               1000 non-null   object\n",
      " 4   Curso_Preparatorio_Teste  1000 non-null   object\n",
      " 5   Pontos_Matematica         1000 non-null   int64 \n",
      " 6   Pontos_Leitura            1000 non-null   int64 \n",
      " 7   Pontos_Escrita            1000 non-null   int64 \n",
      "dtypes: int64(3), object(5)\n",
      "memory usage: 62.6+ KB\n"
     ]
    }
   ],
   "source": [
    "df.info()"
   ]
  },
  {
   "cell_type": "code",
   "execution_count": 11,
   "id": "56a26d15-1ac6-4989-9f66-69d97a44e541",
   "metadata": {},
   "outputs": [
    {
     "data": {
      "text/html": [
       "<div>\n",
       "<style scoped>\n",
       "    .dataframe tbody tr th:only-of-type {\n",
       "        vertical-align: middle;\n",
       "    }\n",
       "\n",
       "    .dataframe tbody tr th {\n",
       "        vertical-align: top;\n",
       "    }\n",
       "\n",
       "    .dataframe thead th {\n",
       "        text-align: right;\n",
       "    }\n",
       "</style>\n",
       "<table border=\"1\" class=\"dataframe\">\n",
       "  <thead>\n",
       "    <tr style=\"text-align: right;\">\n",
       "      <th></th>\n",
       "      <th>Pontos_Matematica</th>\n",
       "      <th>Pontos_Leitura</th>\n",
       "      <th>Pontos_Escrita</th>\n",
       "    </tr>\n",
       "  </thead>\n",
       "  <tbody>\n",
       "    <tr>\n",
       "      <th>count</th>\n",
       "      <td>1000.000000</td>\n",
       "      <td>1000.000000</td>\n",
       "      <td>1000.000000</td>\n",
       "    </tr>\n",
       "    <tr>\n",
       "      <th>mean</th>\n",
       "      <td>67.810000</td>\n",
       "      <td>70.382000</td>\n",
       "      <td>69.140000</td>\n",
       "    </tr>\n",
       "    <tr>\n",
       "      <th>std</th>\n",
       "      <td>15.250196</td>\n",
       "      <td>14.107413</td>\n",
       "      <td>15.025917</td>\n",
       "    </tr>\n",
       "    <tr>\n",
       "      <th>min</th>\n",
       "      <td>15.000000</td>\n",
       "      <td>25.000000</td>\n",
       "      <td>15.000000</td>\n",
       "    </tr>\n",
       "    <tr>\n",
       "      <th>25%</th>\n",
       "      <td>58.000000</td>\n",
       "      <td>61.000000</td>\n",
       "      <td>59.000000</td>\n",
       "    </tr>\n",
       "    <tr>\n",
       "      <th>50%</th>\n",
       "      <td>68.000000</td>\n",
       "      <td>70.500000</td>\n",
       "      <td>70.000000</td>\n",
       "    </tr>\n",
       "    <tr>\n",
       "      <th>75%</th>\n",
       "      <td>79.250000</td>\n",
       "      <td>80.000000</td>\n",
       "      <td>80.000000</td>\n",
       "    </tr>\n",
       "    <tr>\n",
       "      <th>max</th>\n",
       "      <td>100.000000</td>\n",
       "      <td>100.000000</td>\n",
       "      <td>100.000000</td>\n",
       "    </tr>\n",
       "  </tbody>\n",
       "</table>\n",
       "</div>"
      ],
      "text/plain": [
       "       Pontos_Matematica  Pontos_Leitura  Pontos_Escrita\n",
       "count        1000.000000     1000.000000     1000.000000\n",
       "mean           67.810000       70.382000       69.140000\n",
       "std            15.250196       14.107413       15.025917\n",
       "min            15.000000       25.000000       15.000000\n",
       "25%            58.000000       61.000000       59.000000\n",
       "50%            68.000000       70.500000       70.000000\n",
       "75%            79.250000       80.000000       80.000000\n",
       "max           100.000000      100.000000      100.000000"
      ]
     },
     "execution_count": 11,
     "metadata": {},
     "output_type": "execute_result"
    }
   ],
   "source": [
    "df.describe()"
   ]
  },
  {
   "cell_type": "markdown",
   "id": "7759f0e5-8e00-43c7-aad2-155aa1acf8af",
   "metadata": {},
   "source": [
    "## Distribuição dos dados"
   ]
  },
  {
   "cell_type": "markdown",
   "id": "6493ed2d-e2bc-4d2c-86a2-d74b18c2d807",
   "metadata": {},
   "source": [
    "A seguir será apresentado a distribuição dos dados"
   ]
  },
  {
   "cell_type": "markdown",
   "id": "18e834f0-531b-4b25-bb67-748087741eac",
   "metadata": {
    "jp-MarkdownHeadingCollapsed": true
   },
   "source": [
    "### Genero "
   ]
  },
  {
   "cell_type": "code",
   "execution_count": 12,
   "id": "c867361f-b219-44f9-9cfd-54616c5f9210",
   "metadata": {},
   "outputs": [],
   "source": [
    "quantidade_genero = df['Genero'].value_counts()"
   ]
  },
  {
   "cell_type": "code",
   "execution_count": 13,
   "id": "60899686-5eaa-4037-89e0-d32594056e2b",
   "metadata": {},
   "outputs": [],
   "source": [
    "percentual_genero = df['Genero'].value_counts(normalize = True)*100"
   ]
  },
  {
   "cell_type": "code",
   "execution_count": 14,
   "id": "61a1a372-893e-4097-98ee-cfc4e97dffae",
   "metadata": {},
   "outputs": [],
   "source": [
    "distr_genero = pd.DataFrame({'Quantidade': quantidade_genero, 'Percentual (%)': percentual_genero})"
   ]
  },
  {
   "cell_type": "markdown",
   "id": "6d689321-7ae4-4d4a-a789-6b073cf83975",
   "metadata": {},
   "source": [
    "### Comparativo Percentual Masculino e Feminino"
   ]
  },
  {
   "cell_type": "markdown",
   "id": "f3d05e52-3f9b-4b90-a579-ef8866078bc1",
   "metadata": {},
   "source": [
    "- A distribuição dos dados por gênero é bem equilibrada, representando 50,8% para masculino e 49,2% para feminino"
   ]
  },
  {
   "cell_type": "code",
   "execution_count": 15,
   "id": "57dcdf36-220c-4461-896b-f403161d8194",
   "metadata": {},
   "outputs": [
    {
     "data": {
      "text/html": [
       "<div>\n",
       "<style scoped>\n",
       "    .dataframe tbody tr th:only-of-type {\n",
       "        vertical-align: middle;\n",
       "    }\n",
       "\n",
       "    .dataframe tbody tr th {\n",
       "        vertical-align: top;\n",
       "    }\n",
       "\n",
       "    .dataframe thead th {\n",
       "        text-align: right;\n",
       "    }\n",
       "</style>\n",
       "<table border=\"1\" class=\"dataframe\">\n",
       "  <thead>\n",
       "    <tr style=\"text-align: right;\">\n",
       "      <th></th>\n",
       "      <th>Quantidade</th>\n",
       "      <th>Percentual (%)</th>\n",
       "    </tr>\n",
       "    <tr>\n",
       "      <th>Genero</th>\n",
       "      <th></th>\n",
       "      <th></th>\n",
       "    </tr>\n",
       "  </thead>\n",
       "  <tbody>\n",
       "    <tr>\n",
       "      <th>male</th>\n",
       "      <td>508</td>\n",
       "      <td>50.8</td>\n",
       "    </tr>\n",
       "    <tr>\n",
       "      <th>female</th>\n",
       "      <td>492</td>\n",
       "      <td>49.2</td>\n",
       "    </tr>\n",
       "  </tbody>\n",
       "</table>\n",
       "</div>"
      ],
      "text/plain": [
       "        Quantidade  Percentual (%)\n",
       "Genero                            \n",
       "male           508            50.8\n",
       "female         492            49.2"
      ]
     },
     "execution_count": 15,
     "metadata": {},
     "output_type": "execute_result"
    }
   ],
   "source": [
    "distr_genero"
   ]
  },
  {
   "cell_type": "markdown",
   "id": "6aec9329-a1a9-4e39-897f-5113eb77e955",
   "metadata": {
    "jp-MarkdownHeadingCollapsed": true
   },
   "source": [
    "### Raça/ Etnia (Grupos A, B, C, D e E)"
   ]
  },
  {
   "cell_type": "code",
   "execution_count": 16,
   "id": "2f90d38a-2d62-434f-b846-b9c5afdac6e9",
   "metadata": {},
   "outputs": [],
   "source": [
    "quantidade_etnia = df['Raca_Etnia'].value_counts(ascending=False)"
   ]
  },
  {
   "cell_type": "code",
   "execution_count": 17,
   "id": "0084f1d7-38c7-40f0-8485-0c7de595a0d2",
   "metadata": {},
   "outputs": [],
   "source": [
    "percentual_etnia = df['Raca_Etnia'].value_counts(normalize=True)*100"
   ]
  },
  {
   "cell_type": "code",
   "execution_count": 18,
   "id": "8b156304-a11f-4379-aab6-c8205276bc97",
   "metadata": {},
   "outputs": [],
   "source": [
    "distr_etnia = pd.DataFrame({'Quantidade': quantidade_etnia, 'Percentual (%)': percentual_etnia})"
   ]
  },
  {
   "cell_type": "markdown",
   "id": "29a0bf7d-c5f0-46b9-8681-a4b514f8cba2",
   "metadata": {},
   "source": [
    "### Comparativo Percentual Raça/ Etnia"
   ]
  },
  {
   "cell_type": "markdown",
   "id": "e7316f73-56e0-401d-98e4-4b39dc505207",
   "metadata": {},
   "source": [
    "- A maior parte dos alunos estão no grupo C e D. A soma de ambos representa quase 60% do total de alunos."
   ]
  },
  {
   "cell_type": "code",
   "execution_count": 19,
   "id": "8929486f-c9d4-44f9-bc69-70daa38707d8",
   "metadata": {},
   "outputs": [
    {
     "data": {
      "text/html": [
       "<div>\n",
       "<style scoped>\n",
       "    .dataframe tbody tr th:only-of-type {\n",
       "        vertical-align: middle;\n",
       "    }\n",
       "\n",
       "    .dataframe tbody tr th {\n",
       "        vertical-align: top;\n",
       "    }\n",
       "\n",
       "    .dataframe thead th {\n",
       "        text-align: right;\n",
       "    }\n",
       "</style>\n",
       "<table border=\"1\" class=\"dataframe\">\n",
       "  <thead>\n",
       "    <tr style=\"text-align: right;\">\n",
       "      <th></th>\n",
       "      <th>Quantidade</th>\n",
       "      <th>Percentual (%)</th>\n",
       "    </tr>\n",
       "    <tr>\n",
       "      <th>Raca_Etnia</th>\n",
       "      <th></th>\n",
       "      <th></th>\n",
       "    </tr>\n",
       "  </thead>\n",
       "  <tbody>\n",
       "    <tr>\n",
       "      <th>group C</th>\n",
       "      <td>323</td>\n",
       "      <td>32.3</td>\n",
       "    </tr>\n",
       "    <tr>\n",
       "      <th>group D</th>\n",
       "      <td>257</td>\n",
       "      <td>25.7</td>\n",
       "    </tr>\n",
       "    <tr>\n",
       "      <th>group B</th>\n",
       "      <td>198</td>\n",
       "      <td>19.8</td>\n",
       "    </tr>\n",
       "    <tr>\n",
       "      <th>group E</th>\n",
       "      <td>143</td>\n",
       "      <td>14.3</td>\n",
       "    </tr>\n",
       "    <tr>\n",
       "      <th>group A</th>\n",
       "      <td>79</td>\n",
       "      <td>7.9</td>\n",
       "    </tr>\n",
       "  </tbody>\n",
       "</table>\n",
       "</div>"
      ],
      "text/plain": [
       "            Quantidade  Percentual (%)\n",
       "Raca_Etnia                            \n",
       "group C            323            32.3\n",
       "group D            257            25.7\n",
       "group B            198            19.8\n",
       "group E            143            14.3\n",
       "group A             79             7.9"
      ]
     },
     "execution_count": 19,
     "metadata": {},
     "output_type": "execute_result"
    }
   ],
   "source": [
    "distr_etnia"
   ]
  },
  {
   "cell_type": "markdown",
   "id": "736b5489-f4e6-44b7-ba90-1b5860261bf0",
   "metadata": {
    "jp-MarkdownHeadingCollapsed": true
   },
   "source": [
    "### Nível de Educação dos pais ou responsável"
   ]
  },
  {
   "cell_type": "code",
   "execution_count": 20,
   "id": "610d45c4-6731-4bd6-8920-329c6a4c11ca",
   "metadata": {},
   "outputs": [
    {
     "data": {
      "text/html": [
       "<div>\n",
       "<style scoped>\n",
       "    .dataframe tbody tr th:only-of-type {\n",
       "        vertical-align: middle;\n",
       "    }\n",
       "\n",
       "    .dataframe tbody tr th {\n",
       "        vertical-align: top;\n",
       "    }\n",
       "\n",
       "    .dataframe thead th {\n",
       "        text-align: right;\n",
       "    }\n",
       "</style>\n",
       "<table border=\"1\" class=\"dataframe\">\n",
       "  <thead>\n",
       "    <tr style=\"text-align: right;\">\n",
       "      <th></th>\n",
       "      <th>Genero</th>\n",
       "      <th>Raca_Etnia</th>\n",
       "      <th>Nivel_Educacao_dos_Pais</th>\n",
       "      <th>Alimentacao</th>\n",
       "      <th>Curso_Preparatorio_Teste</th>\n",
       "      <th>Pontos_Matematica</th>\n",
       "      <th>Pontos_Leitura</th>\n",
       "      <th>Pontos_Escrita</th>\n",
       "    </tr>\n",
       "  </thead>\n",
       "  <tbody>\n",
       "    <tr>\n",
       "      <th>0</th>\n",
       "      <td>female</td>\n",
       "      <td>group D</td>\n",
       "      <td>some college</td>\n",
       "      <td>standard</td>\n",
       "      <td>completed</td>\n",
       "      <td>59</td>\n",
       "      <td>70</td>\n",
       "      <td>78</td>\n",
       "    </tr>\n",
       "    <tr>\n",
       "      <th>1</th>\n",
       "      <td>male</td>\n",
       "      <td>group D</td>\n",
       "      <td>associate's degree</td>\n",
       "      <td>standard</td>\n",
       "      <td>none</td>\n",
       "      <td>96</td>\n",
       "      <td>93</td>\n",
       "      <td>87</td>\n",
       "    </tr>\n",
       "    <tr>\n",
       "      <th>2</th>\n",
       "      <td>female</td>\n",
       "      <td>group D</td>\n",
       "      <td>some college</td>\n",
       "      <td>free/reduced</td>\n",
       "      <td>none</td>\n",
       "      <td>57</td>\n",
       "      <td>76</td>\n",
       "      <td>77</td>\n",
       "    </tr>\n",
       "    <tr>\n",
       "      <th>3</th>\n",
       "      <td>male</td>\n",
       "      <td>group B</td>\n",
       "      <td>some college</td>\n",
       "      <td>free/reduced</td>\n",
       "      <td>none</td>\n",
       "      <td>70</td>\n",
       "      <td>70</td>\n",
       "      <td>63</td>\n",
       "    </tr>\n",
       "    <tr>\n",
       "      <th>4</th>\n",
       "      <td>female</td>\n",
       "      <td>group D</td>\n",
       "      <td>associate's degree</td>\n",
       "      <td>standard</td>\n",
       "      <td>none</td>\n",
       "      <td>83</td>\n",
       "      <td>85</td>\n",
       "      <td>86</td>\n",
       "    </tr>\n",
       "  </tbody>\n",
       "</table>\n",
       "</div>"
      ],
      "text/plain": [
       "   Genero Raca_Etnia Nivel_Educacao_dos_Pais   Alimentacao  \\\n",
       "0  female    group D            some college      standard   \n",
       "1    male    group D      associate's degree      standard   \n",
       "2  female    group D            some college  free/reduced   \n",
       "3    male    group B            some college  free/reduced   \n",
       "4  female    group D      associate's degree      standard   \n",
       "\n",
       "  Curso_Preparatorio_Teste  Pontos_Matematica  Pontos_Leitura  Pontos_Escrita  \n",
       "0                completed                 59              70              78  \n",
       "1                     none                 96              93              87  \n",
       "2                     none                 57              76              77  \n",
       "3                     none                 70              70              63  \n",
       "4                     none                 83              85              86  "
      ]
     },
     "execution_count": 20,
     "metadata": {},
     "output_type": "execute_result"
    }
   ],
   "source": [
    "df.head()"
   ]
  },
  {
   "cell_type": "markdown",
   "id": "c91ea484-3d53-45ab-81f7-56d699744770",
   "metadata": {},
   "source": [
    "#### Traduzindo os dados da coluna Nível de Educação dos Pais para facilitar o entendimento"
   ]
  },
  {
   "cell_type": "code",
   "execution_count": 21,
   "id": "a50619ff-c3c4-4369-813f-2d5599a82c60",
   "metadata": {},
   "outputs": [],
   "source": [
    "df['Nivel_Educacao_dos_Pais'] = df['Nivel_Educacao_dos_Pais'].replace({\n",
    "    \"associate's degree\" : \"Graduação técnica\",\n",
    "    \"bachelor's degree\" : \"Diploma de bacharel\",\n",
    "    \"high school\" : \"Ensino médio\",\n",
    "    \"master's degree\" : \"Diploma de mestrado\",\n",
    "    \"some college\" : \"Iniciou alguma faculdade\",\n",
    "    \"some high school\" : \"Ensino médio (completo ou não)\" \n",
    "})"
   ]
  },
  {
   "cell_type": "code",
   "execution_count": 22,
   "id": "7dd4fa1a-34e4-4e23-8cd9-7cdfecc6a4a8",
   "metadata": {},
   "outputs": [
    {
     "data": {
      "text/html": [
       "<div>\n",
       "<style scoped>\n",
       "    .dataframe tbody tr th:only-of-type {\n",
       "        vertical-align: middle;\n",
       "    }\n",
       "\n",
       "    .dataframe tbody tr th {\n",
       "        vertical-align: top;\n",
       "    }\n",
       "\n",
       "    .dataframe thead th {\n",
       "        text-align: right;\n",
       "    }\n",
       "</style>\n",
       "<table border=\"1\" class=\"dataframe\">\n",
       "  <thead>\n",
       "    <tr style=\"text-align: right;\">\n",
       "      <th></th>\n",
       "      <th>Genero</th>\n",
       "      <th>Raca_Etnia</th>\n",
       "      <th>Nivel_Educacao_dos_Pais</th>\n",
       "      <th>Alimentacao</th>\n",
       "      <th>Curso_Preparatorio_Teste</th>\n",
       "      <th>Pontos_Matematica</th>\n",
       "      <th>Pontos_Leitura</th>\n",
       "      <th>Pontos_Escrita</th>\n",
       "    </tr>\n",
       "  </thead>\n",
       "  <tbody>\n",
       "    <tr>\n",
       "      <th>0</th>\n",
       "      <td>female</td>\n",
       "      <td>group D</td>\n",
       "      <td>Iniciou alguma faculdade</td>\n",
       "      <td>standard</td>\n",
       "      <td>completed</td>\n",
       "      <td>59</td>\n",
       "      <td>70</td>\n",
       "      <td>78</td>\n",
       "    </tr>\n",
       "    <tr>\n",
       "      <th>1</th>\n",
       "      <td>male</td>\n",
       "      <td>group D</td>\n",
       "      <td>Graduação técnica</td>\n",
       "      <td>standard</td>\n",
       "      <td>none</td>\n",
       "      <td>96</td>\n",
       "      <td>93</td>\n",
       "      <td>87</td>\n",
       "    </tr>\n",
       "    <tr>\n",
       "      <th>2</th>\n",
       "      <td>female</td>\n",
       "      <td>group D</td>\n",
       "      <td>Iniciou alguma faculdade</td>\n",
       "      <td>free/reduced</td>\n",
       "      <td>none</td>\n",
       "      <td>57</td>\n",
       "      <td>76</td>\n",
       "      <td>77</td>\n",
       "    </tr>\n",
       "    <tr>\n",
       "      <th>3</th>\n",
       "      <td>male</td>\n",
       "      <td>group B</td>\n",
       "      <td>Iniciou alguma faculdade</td>\n",
       "      <td>free/reduced</td>\n",
       "      <td>none</td>\n",
       "      <td>70</td>\n",
       "      <td>70</td>\n",
       "      <td>63</td>\n",
       "    </tr>\n",
       "    <tr>\n",
       "      <th>4</th>\n",
       "      <td>female</td>\n",
       "      <td>group D</td>\n",
       "      <td>Graduação técnica</td>\n",
       "      <td>standard</td>\n",
       "      <td>none</td>\n",
       "      <td>83</td>\n",
       "      <td>85</td>\n",
       "      <td>86</td>\n",
       "    </tr>\n",
       "  </tbody>\n",
       "</table>\n",
       "</div>"
      ],
      "text/plain": [
       "   Genero Raca_Etnia   Nivel_Educacao_dos_Pais   Alimentacao  \\\n",
       "0  female    group D  Iniciou alguma faculdade      standard   \n",
       "1    male    group D         Graduação técnica      standard   \n",
       "2  female    group D  Iniciou alguma faculdade  free/reduced   \n",
       "3    male    group B  Iniciou alguma faculdade  free/reduced   \n",
       "4  female    group D         Graduação técnica      standard   \n",
       "\n",
       "  Curso_Preparatorio_Teste  Pontos_Matematica  Pontos_Leitura  Pontos_Escrita  \n",
       "0                completed                 59              70              78  \n",
       "1                     none                 96              93              87  \n",
       "2                     none                 57              76              77  \n",
       "3                     none                 70              70              63  \n",
       "4                     none                 83              85              86  "
      ]
     },
     "execution_count": 22,
     "metadata": {},
     "output_type": "execute_result"
    }
   ],
   "source": [
    "df.head()"
   ]
  },
  {
   "cell_type": "code",
   "execution_count": 23,
   "id": "e1412b7b-9015-4265-a96c-acd380cc5ec0",
   "metadata": {},
   "outputs": [],
   "source": [
    "quantidade_niveleduacacao = df['Nivel_Educacao_dos_Pais'].value_counts(ascending=False)"
   ]
  },
  {
   "cell_type": "code",
   "execution_count": 24,
   "id": "5653fea4-3650-477b-9384-67992407c6c1",
   "metadata": {},
   "outputs": [],
   "source": [
    "percentual_niveleduacacao = df['Nivel_Educacao_dos_Pais'].value_counts(normalize=True)*100"
   ]
  },
  {
   "cell_type": "code",
   "execution_count": 25,
   "id": "42fe3b7b-caa0-4478-b32d-5edc7e4d0c83",
   "metadata": {},
   "outputs": [],
   "source": [
    "distr_niveleduacacao = pd.DataFrame({'Quantidade': quantidade_niveleduacacao, 'Percentual (%)':percentual_niveleduacacao})"
   ]
  },
  {
   "cell_type": "markdown",
   "id": "773cc5b4-899a-488b-a7b6-10a96ee9d799",
   "metadata": {},
   "source": [
    "### Comparativo Percentual Nível de Educação dos Pais"
   ]
  },
  {
   "cell_type": "markdown",
   "id": "5ed86f1b-a371-4e00-aaf7-2db0ce80b2c9",
   "metadata": {},
   "source": [
    "- A maioria dos pais ou responsáveis possui algum estudo, sendo representado por 22,4% para os que iniciaram alguma faculdade não necessáriamente terem concluido, seguido pelo ensino médio completo com uma taxa de 21,5%, graduação tecnica com 20,4%, ensino médio completo ou não representando 17,7%, os que possuem certificado de bacharel com 10,5% e a menor taxa, sendo 7,5% para os que possuem mestrado"
   ]
  },
  {
   "cell_type": "code",
   "execution_count": 26,
   "id": "c50acd88-f3a0-46da-b691-e489222b0595",
   "metadata": {},
   "outputs": [
    {
     "data": {
      "text/html": [
       "<div>\n",
       "<style scoped>\n",
       "    .dataframe tbody tr th:only-of-type {\n",
       "        vertical-align: middle;\n",
       "    }\n",
       "\n",
       "    .dataframe tbody tr th {\n",
       "        vertical-align: top;\n",
       "    }\n",
       "\n",
       "    .dataframe thead th {\n",
       "        text-align: right;\n",
       "    }\n",
       "</style>\n",
       "<table border=\"1\" class=\"dataframe\">\n",
       "  <thead>\n",
       "    <tr style=\"text-align: right;\">\n",
       "      <th></th>\n",
       "      <th>Quantidade</th>\n",
       "      <th>Percentual (%)</th>\n",
       "    </tr>\n",
       "    <tr>\n",
       "      <th>Nivel_Educacao_dos_Pais</th>\n",
       "      <th></th>\n",
       "      <th></th>\n",
       "    </tr>\n",
       "  </thead>\n",
       "  <tbody>\n",
       "    <tr>\n",
       "      <th>Iniciou alguma faculdade</th>\n",
       "      <td>224</td>\n",
       "      <td>22.4</td>\n",
       "    </tr>\n",
       "    <tr>\n",
       "      <th>Ensino médio</th>\n",
       "      <td>215</td>\n",
       "      <td>21.5</td>\n",
       "    </tr>\n",
       "    <tr>\n",
       "      <th>Graduação técnica</th>\n",
       "      <td>204</td>\n",
       "      <td>20.4</td>\n",
       "    </tr>\n",
       "    <tr>\n",
       "      <th>Ensino médio (completo ou não)</th>\n",
       "      <td>177</td>\n",
       "      <td>17.7</td>\n",
       "    </tr>\n",
       "    <tr>\n",
       "      <th>Diploma de bacharel</th>\n",
       "      <td>105</td>\n",
       "      <td>10.5</td>\n",
       "    </tr>\n",
       "    <tr>\n",
       "      <th>Diploma de mestrado</th>\n",
       "      <td>75</td>\n",
       "      <td>7.5</td>\n",
       "    </tr>\n",
       "  </tbody>\n",
       "</table>\n",
       "</div>"
      ],
      "text/plain": [
       "                                Quantidade  Percentual (%)\n",
       "Nivel_Educacao_dos_Pais                                   \n",
       "Iniciou alguma faculdade               224            22.4\n",
       "Ensino médio                           215            21.5\n",
       "Graduação técnica                      204            20.4\n",
       "Ensino médio (completo ou não)         177            17.7\n",
       "Diploma de bacharel                    105            10.5\n",
       "Diploma de mestrado                     75             7.5"
      ]
     },
     "execution_count": 26,
     "metadata": {},
     "output_type": "execute_result"
    }
   ],
   "source": [
    "distr_niveleduacacao"
   ]
  },
  {
   "cell_type": "markdown",
   "id": "95a43f47-d874-4f06-bcf3-457a732827c7",
   "metadata": {
    "jp-MarkdownHeadingCollapsed": true
   },
   "source": [
    "### Pagamento padrão ou desconto/ gratuidade na alimentação"
   ]
  },
  {
   "cell_type": "code",
   "execution_count": 27,
   "id": "f0f73fa8-6636-4677-b123-1d6d31a25d93",
   "metadata": {},
   "outputs": [],
   "source": [
    "quantidade_alimentacao = df['Alimentacao'].value_counts(ascending=False)"
   ]
  },
  {
   "cell_type": "code",
   "execution_count": 28,
   "id": "cbe6718d-4345-47aa-867c-e31c4cf0798b",
   "metadata": {},
   "outputs": [],
   "source": [
    "percentual_alimentacao = df['Alimentacao'].value_counts(normalize=True)*100"
   ]
  },
  {
   "cell_type": "code",
   "execution_count": 29,
   "id": "642290fc-4841-465f-99cd-474dd2ddb237",
   "metadata": {},
   "outputs": [],
   "source": [
    "distr_alimentacao = pd.DataFrame({'Quantidade': quantidade_alimentacao, 'Percentual (%)': percentual_alimentacao})"
   ]
  },
  {
   "cell_type": "markdown",
   "id": "d9ef5a95-7db2-4552-91a2-c7eeec933c3c",
   "metadata": {},
   "source": [
    "### Comparativo Percentual Pagamento Alimentação"
   ]
  },
  {
   "cell_type": "markdown",
   "id": "fd3a8966-27bf-4fc4-ae72-965767b1546e",
   "metadata": {},
   "source": [
    "- 66% dos alunos pagam o valor padrão para alimentação e 34% tem gratuidade ou algum desconto"
   ]
  },
  {
   "cell_type": "code",
   "execution_count": 30,
   "id": "70ce62ac-4658-43a9-9461-d8441300bdd4",
   "metadata": {},
   "outputs": [
    {
     "data": {
      "text/html": [
       "<div>\n",
       "<style scoped>\n",
       "    .dataframe tbody tr th:only-of-type {\n",
       "        vertical-align: middle;\n",
       "    }\n",
       "\n",
       "    .dataframe tbody tr th {\n",
       "        vertical-align: top;\n",
       "    }\n",
       "\n",
       "    .dataframe thead th {\n",
       "        text-align: right;\n",
       "    }\n",
       "</style>\n",
       "<table border=\"1\" class=\"dataframe\">\n",
       "  <thead>\n",
       "    <tr style=\"text-align: right;\">\n",
       "      <th></th>\n",
       "      <th>Quantidade</th>\n",
       "      <th>Percentual (%)</th>\n",
       "    </tr>\n",
       "    <tr>\n",
       "      <th>Alimentacao</th>\n",
       "      <th></th>\n",
       "      <th></th>\n",
       "    </tr>\n",
       "  </thead>\n",
       "  <tbody>\n",
       "    <tr>\n",
       "      <th>standard</th>\n",
       "      <td>660</td>\n",
       "      <td>66.0</td>\n",
       "    </tr>\n",
       "    <tr>\n",
       "      <th>free/reduced</th>\n",
       "      <td>340</td>\n",
       "      <td>34.0</td>\n",
       "    </tr>\n",
       "  </tbody>\n",
       "</table>\n",
       "</div>"
      ],
      "text/plain": [
       "              Quantidade  Percentual (%)\n",
       "Alimentacao                             \n",
       "standard             660            66.0\n",
       "free/reduced         340            34.0"
      ]
     },
     "execution_count": 30,
     "metadata": {},
     "output_type": "execute_result"
    }
   ],
   "source": [
    "distr_alimentacao"
   ]
  },
  {
   "cell_type": "markdown",
   "id": "3f0fe591-4993-4884-bc28-909befc12087",
   "metadata": {
    "jp-MarkdownHeadingCollapsed": true
   },
   "source": [
    "### Curso Preparatório para realização do Exame"
   ]
  },
  {
   "cell_type": "code",
   "execution_count": 31,
   "id": "34dcb446-53d9-4381-87e9-20cb206af1d6",
   "metadata": {},
   "outputs": [],
   "source": [
    "quantidade_cursoprep = df['Curso_Preparatorio_Teste'].value_counts(ascending=False)"
   ]
  },
  {
   "cell_type": "code",
   "execution_count": 32,
   "id": "bd756656-8898-49c6-a78d-cae403871df0",
   "metadata": {},
   "outputs": [],
   "source": [
    "percentual_cursoprep = df['Curso_Preparatorio_Teste'].value_counts(normalize=True)*100"
   ]
  },
  {
   "cell_type": "code",
   "execution_count": 33,
   "id": "3e42afc1-8725-4a57-865b-bd053ee2a8fd",
   "metadata": {},
   "outputs": [],
   "source": [
    "distr_cursoprep = pd.DataFrame({'Quantidade': quantidade_cursoprep, 'Percentual (%)': percentual_cursoprep})"
   ]
  },
  {
   "cell_type": "markdown",
   "id": "34fb3c76-cef0-4e94-9c5c-af89e337683f",
   "metadata": {},
   "source": [
    "### Comparativo Percentual Alunos que realizaram o Curso Preparatório para realização do Teste"
   ]
  },
  {
   "cell_type": "markdown",
   "id": "3711cddc-9d2f-45fd-83fc-847bce1092be",
   "metadata": {},
   "source": [
    "- Apenas 34,4% dos alunos fizeram exame preparatório para realização do exame, os demais não fizeram ou não completaram o curso"
   ]
  },
  {
   "cell_type": "code",
   "execution_count": 34,
   "id": "acff29eb-3395-4f05-a430-4c355465df2c",
   "metadata": {},
   "outputs": [
    {
     "data": {
      "text/html": [
       "<div>\n",
       "<style scoped>\n",
       "    .dataframe tbody tr th:only-of-type {\n",
       "        vertical-align: middle;\n",
       "    }\n",
       "\n",
       "    .dataframe tbody tr th {\n",
       "        vertical-align: top;\n",
       "    }\n",
       "\n",
       "    .dataframe thead th {\n",
       "        text-align: right;\n",
       "    }\n",
       "</style>\n",
       "<table border=\"1\" class=\"dataframe\">\n",
       "  <thead>\n",
       "    <tr style=\"text-align: right;\">\n",
       "      <th></th>\n",
       "      <th>Quantidade</th>\n",
       "      <th>Percentual (%)</th>\n",
       "    </tr>\n",
       "    <tr>\n",
       "      <th>Curso_Preparatorio_Teste</th>\n",
       "      <th></th>\n",
       "      <th></th>\n",
       "    </tr>\n",
       "  </thead>\n",
       "  <tbody>\n",
       "    <tr>\n",
       "      <th>none</th>\n",
       "      <td>656</td>\n",
       "      <td>65.6</td>\n",
       "    </tr>\n",
       "    <tr>\n",
       "      <th>completed</th>\n",
       "      <td>344</td>\n",
       "      <td>34.4</td>\n",
       "    </tr>\n",
       "  </tbody>\n",
       "</table>\n",
       "</div>"
      ],
      "text/plain": [
       "                          Quantidade  Percentual (%)\n",
       "Curso_Preparatorio_Teste                            \n",
       "none                             656            65.6\n",
       "completed                        344            34.4"
      ]
     },
     "execution_count": 34,
     "metadata": {},
     "output_type": "execute_result"
    }
   ],
   "source": [
    "distr_cursoprep"
   ]
  },
  {
   "cell_type": "markdown",
   "id": "6b03e921-7ba7-4b80-ab5e-086db9e34715",
   "metadata": {},
   "source": [
    "### Matriz de Correlação entre as Pontuações das Matérias"
   ]
  },
  {
   "cell_type": "code",
   "execution_count": 35,
   "id": "551f0bf3-aa52-4a1f-b3d8-68daf51bc824",
   "metadata": {},
   "outputs": [],
   "source": [
    "correla = df[['Pontos_Matematica','Pontos_Leitura', 'Pontos_Escrita']].corr()"
   ]
  },
  {
   "cell_type": "code",
   "execution_count": 36,
   "id": "a7ea0dbe-a1bb-454a-a211-0d91a6cd01cf",
   "metadata": {},
   "outputs": [
    {
     "data": {
      "image/png": "[encoded data removed]",
      "text/plain": [
       "<Figure size 800x500 with 2 Axes>"
      ]
     },
     "metadata": {},
     "output_type": "display_data"
    }
   ],
   "source": [
    "plt.figure(figsize=(8,5))\n",
    "sns.heatmap(correla, annot=True, cmap='viridis', fmt='2.2f', linewidths=0.5)\n",
    "plt.title('Matriz de Correlação')\n",
    "\n",
    "plt.show()"
   ]
  },
  {
   "cell_type": "markdown",
   "id": "27be947f-0cdd-4c03-8ac0-7d150a0ff860",
   "metadata": {},
   "source": [
    "Possível identificar pelo gráfico que a pontuação em leitura e escritas estão com uma taxa maior de correlação do que se comparado com a pontuação em matemática. Não significa que a pontuação maior entre leitura/escrita em uma causa o aumento na outra, mas que possuem uma correlação mais forte do que se comparado com a matéria de exatas.\n",
    "\n",
    "- Leitura e Escrita = 0,95\n",
    "- Leitura e Matemática = 0,81\n",
    "- Escrita e Matemática = 0,79"
   ]
  },
  {
   "cell_type": "markdown",
   "id": "f6b8ebe0-7c6c-4ae9-87d8-9232cbe1b3cd",
   "metadata": {},
   "source": [
    "### Influencia do Curso Preparatório para a Pontuação "
   ]
  },
  {
   "cell_type": "code",
   "execution_count": 37,
   "id": "da6bdb4f-8423-4264-8b61-7388b42358de",
   "metadata": {},
   "outputs": [
    {
     "data": {
      "image/png": "[encoded data removed]",
      "text/plain": [
       "<Figure size 1800x600 with 3 Axes>"
      ]
     },
     "metadata": {},
     "output_type": "display_data"
    }
   ],
   "source": [
    "sns.set(style='whitegrid')\n",
    "\n",
    "#Ajustando o quadro para adicionar os gráficos\n",
    "fig, axes = plt.subplots(1, 3, figsize=(18,6), sharey=True)\n",
    "\n",
    "#Boxplot para Pontos em Matemática\n",
    "sns.boxplot(x= 'Curso_Preparatorio_Teste', y='Pontos_Matematica', data=df, ax=axes[0])\n",
    "axes[0].set_title('Distribuição Pontos Matemática')\n",
    "axes[0].set_xlabel('Curso Preparatorio Teste')\n",
    "axes[0].set_ylabel('Pontos Matematica')\n",
    "\n",
    "#Boxplot para Pontos em Leitura\n",
    "sns.boxplot(x= 'Curso_Preparatorio_Teste', y='Pontos_Leitura', data=df, ax=axes[1])\n",
    "axes[1].set_title('Distribuição Pontos Leitura')\n",
    "axes[1].set_xlabel('Curso Preparatorio Teste')\n",
    "axes[1].set_ylabel('Pontos Leitura')\n",
    "\n",
    "#Boxplot para Pontos em Escrita\n",
    "sns.boxplot(x= 'Curso_Preparatorio_Teste', y='Pontos_Escrita', data=df, ax=axes[2])\n",
    "axes[2].set_title('Distribuição Pontos Escrita')\n",
    "axes[2].set_xlabel('Curso Preparatorio Teste')\n",
    "axes[2].set_ylabel('Pontos Escrita')\n",
    "\n",
    "#Ajustando layout para não ter sobreposição dos gráficos\n",
    "plt.tight_layout()\n",
    "\n",
    "plt.show()"
   ]
  },
  {
   "cell_type": "markdown",
   "id": "ac133208-e2a7-4096-8af0-970c213bd2de",
   "metadata": {},
   "source": [
    "- Pela distribuição dos dados no gráfico é possível notar que quem completou o curso preparatório teve uma média de pontuação maior do que quem não completou.\n",
    "- Para ficar ainda mais claro essa diferença, abaixo será demonstrado com mais detalhes a média de pontuação para cada matéria"
   ]
  },
  {
   "cell_type": "markdown",
   "id": "ede4b3ec-3e03-4d32-8f2a-06bf37c61d16",
   "metadata": {
    "jp-MarkdownHeadingCollapsed": true
   },
   "source": [
    "### Média de pontuação dos alunos que fizeram o curso preparatório "
   ]
  },
  {
   "cell_type": "markdown",
   "id": "77b34187-07aa-44bc-a203-db9615791aaf",
   "metadata": {},
   "source": [
    "- Separação dos dados "
   ]
  },
  {
   "cell_type": "code",
   "execution_count": 38,
   "id": "f3b7bf3f-309f-41d6-919c-2d9ed37d5717",
   "metadata": {},
   "outputs": [],
   "source": [
    "curso_pontos_comp = df[df['Curso_Preparatorio_Teste'] == 'completed']\n",
    "curso_pontos_none = df[df['Curso_Preparatorio_Teste'] == 'none']"
   ]
  },
  {
   "cell_type": "markdown",
   "id": "26c3c619-ce05-4987-834d-7361b2aec477",
   "metadata": {},
   "source": [
    "- Média de Pontos Matemática"
   ]
  },
  {
   "cell_type": "code",
   "execution_count": 39,
   "id": "fea291d0-c99f-492a-858b-6f4ce052f0a1",
   "metadata": {},
   "outputs": [],
   "source": [
    "media_mat_compl = curso_pontos_comp['Pontos_Matematica'].mean()\n",
    "media_mat_none = curso_pontos_none['Pontos_Matematica'].mean()"
   ]
  },
  {
   "cell_type": "markdown",
   "id": "6246739c-975a-4e28-9ed3-5cd4212907fb",
   "metadata": {},
   "source": [
    "- Média de Pontos Leitura"
   ]
  },
  {
   "cell_type": "code",
   "execution_count": 40,
   "id": "8aa5b053-6cc6-42d8-8c0a-893ca5574ce1",
   "metadata": {},
   "outputs": [],
   "source": [
    "media_leit_compl = curso_pontos_comp['Pontos_Leitura'].mean()\n",
    "media_leit_none = curso_pontos_none['Pontos_Leitura'].mean()"
   ]
  },
  {
   "cell_type": "markdown",
   "id": "341a9c09-88dd-4b11-b7cd-8c076e0751f6",
   "metadata": {},
   "source": [
    "- Média de Pontos Escrita"
   ]
  },
  {
   "cell_type": "code",
   "execution_count": 41,
   "id": "1878acbf-a113-43a1-8bbe-00b89426ba9c",
   "metadata": {},
   "outputs": [],
   "source": [
    "media_esc_compl = curso_pontos_comp['Pontos_Escrita'].mean()\n",
    "media_esc_none = curso_pontos_none['Pontos_Escrita'].mean()"
   ]
  },
  {
   "cell_type": "markdown",
   "id": "f9b0263b-9374-4b34-9d9a-8c6c7f066cb9",
   "metadata": {},
   "source": [
    "- Criando um dicionário para montar um DataFrame com as médias"
   ]
  },
  {
   "cell_type": "code",
   "execution_count": 42,
   "id": "9a9f2e26-0bb4-4f44-9698-3f4e615a6032",
   "metadata": {},
   "outputs": [],
   "source": [
    "medias = {\n",
    "    'Matéria': ['Matemática','Leitura', 'Escrita'],\n",
    "    'Média_Nao_Completou': [round(media_mat_none), round(media_leit_none), round(media_esc_none)],\n",
    "    'Média_Completou': [round(media_mat_compl), round(media_leit_compl), round(media_esc_compl)] \n",
    "}"
   ]
  },
  {
   "cell_type": "code",
   "execution_count": 43,
   "id": "7c07e2fe-ef5b-4f87-838e-5a1b3ccc759b",
   "metadata": {},
   "outputs": [],
   "source": [
    "df_medias = pd.DataFrame(medias)"
   ]
  },
  {
   "cell_type": "markdown",
   "id": "338dced1-1ed1-408a-b2c9-70298bad95ff",
   "metadata": {},
   "source": [
    "- Adicionando uma coluna com o Percentual do aumento na média de pontuação"
   ]
  },
  {
   "cell_type": "code",
   "execution_count": 44,
   "id": "15a9d7e0-4816-4036-8373-7a8f3bcb587f",
   "metadata": {},
   "outputs": [],
   "source": [
    "df_medias['Aumento_Percentual'] = ((df_medias['Média_Completou'] - df_medias['Média_Nao_Completou']) / df_medias['Média_Completou'])*100\n",
    "df_medias['Aumento_Percentual'] = df_medias['Aumento_Percentual'].round(1)"
   ]
  },
  {
   "cell_type": "code",
   "execution_count": 45,
   "id": "05fcc0ff-9b09-4c77-bf6b-213bc7fb6af9",
   "metadata": {},
   "outputs": [],
   "source": [
    "df_medias = df_medias.sort_values(by='Aumento_Percentual', ascending=False)"
   ]
  },
  {
   "cell_type": "markdown",
   "id": "63a0f630-7ce1-4d2f-958d-d342bc84e200",
   "metadata": {},
   "source": [
    "### Percentual por Matéria entre as médias dos alunos que completara x não completaram o curso preparatório"
   ]
  },
  {
   "cell_type": "code",
   "execution_count": 46,
   "id": "1a378593-6845-4bb0-8a77-5b269a873e10",
   "metadata": {},
   "outputs": [
    {
     "data": {
      "text/html": [
       "<div>\n",
       "<style scoped>\n",
       "    .dataframe tbody tr th:only-of-type {\n",
       "        vertical-align: middle;\n",
       "    }\n",
       "\n",
       "    .dataframe tbody tr th {\n",
       "        vertical-align: top;\n",
       "    }\n",
       "\n",
       "    .dataframe thead th {\n",
       "        text-align: right;\n",
       "    }\n",
       "</style>\n",
       "<table border=\"1\" class=\"dataframe\">\n",
       "  <thead>\n",
       "    <tr style=\"text-align: right;\">\n",
       "      <th></th>\n",
       "      <th>Matéria</th>\n",
       "      <th>Média_Nao_Completou</th>\n",
       "      <th>Média_Completou</th>\n",
       "      <th>Aumento_Percentual</th>\n",
       "    </tr>\n",
       "  </thead>\n",
       "  <tbody>\n",
       "    <tr>\n",
       "      <th>2</th>\n",
       "      <td>Escrita</td>\n",
       "      <td>66</td>\n",
       "      <td>76</td>\n",
       "      <td>13.2</td>\n",
       "    </tr>\n",
       "    <tr>\n",
       "      <th>1</th>\n",
       "      <td>Leitura</td>\n",
       "      <td>68</td>\n",
       "      <td>75</td>\n",
       "      <td>9.3</td>\n",
       "    </tr>\n",
       "    <tr>\n",
       "      <th>0</th>\n",
       "      <td>Matemática</td>\n",
       "      <td>66</td>\n",
       "      <td>70</td>\n",
       "      <td>5.7</td>\n",
       "    </tr>\n",
       "  </tbody>\n",
       "</table>\n",
       "</div>"
      ],
      "text/plain": [
       "      Matéria  Média_Nao_Completou  Média_Completou  Aumento_Percentual\n",
       "2     Escrita                   66               76                13.2\n",
       "1     Leitura                   68               75                 9.3\n",
       "0  Matemática                   66               70                 5.7"
      ]
     },
     "execution_count": 46,
     "metadata": {},
     "output_type": "execute_result"
    }
   ],
   "source": [
    "df_medias"
   ]
  },
  {
   "cell_type": "markdown",
   "id": "46ed6830-a6a1-49f0-9524-aea0d9c65969",
   "metadata": {},
   "source": [
    "- A média de Pontuação dos alunos que realizaram o curso preparatório foi maior do que os alunos que não realizaram.  \n",
    "Sendo que para Escrita foi o maior resultado, sendo uma diferença de 13,2% acima na média de pontuação, seguido por Leitura com 9,3% e Matemática com 5,7%"
   ]
  },
  {
   "cell_type": "markdown",
   "id": "88582a22-e266-48c3-b988-bd24efbfdb1e",
   "metadata": {},
   "source": [
    "### Comparação entre o nível de educação dos pais e pontuação dos alunos"
   ]
  },
  {
   "cell_type": "code",
   "execution_count": 47,
   "id": "5304e75b-5754-4680-8494-b16d7019c57f",
   "metadata": {},
   "outputs": [],
   "source": [
    "nivel_educ_pais = df.copy()"
   ]
  },
  {
   "cell_type": "code",
   "execution_count": 48,
   "id": "068dd519-34f0-4b50-b8fb-0ebd64d0587a",
   "metadata": {},
   "outputs": [],
   "source": [
    "media_nivel = nivel_educ_pais.groupby('Nivel_Educacao_dos_Pais').agg({\n",
    "    'Pontos_Matematica' : 'mean',\n",
    "    'Pontos_Leitura' : 'mean',\n",
    "    'Pontos_Escrita' : 'mean'  \n",
    "}).reset_index()"
   ]
  },
  {
   "cell_type": "code",
   "execution_count": 49,
   "id": "fa92df7f-a336-4ef6-8cd2-ac989b64ac4b",
   "metadata": {},
   "outputs": [
    {
     "data": {
      "text/html": [
       "<div>\n",
       "<style scoped>\n",
       "    .dataframe tbody tr th:only-of-type {\n",
       "        vertical-align: middle;\n",
       "    }\n",
       "\n",
       "    .dataframe tbody tr th {\n",
       "        vertical-align: top;\n",
       "    }\n",
       "\n",
       "    .dataframe thead th {\n",
       "        text-align: right;\n",
       "    }\n",
       "</style>\n",
       "<table border=\"1\" class=\"dataframe\">\n",
       "  <thead>\n",
       "    <tr style=\"text-align: right;\">\n",
       "      <th></th>\n",
       "      <th>Nivel_Educacao_dos_Pais</th>\n",
       "      <th>Pontos_Matematica</th>\n",
       "      <th>Pontos_Leitura</th>\n",
       "      <th>Pontos_Escrita</th>\n",
       "    </tr>\n",
       "  </thead>\n",
       "  <tbody>\n",
       "    <tr>\n",
       "      <th>0</th>\n",
       "      <td>Diploma de bacharel</td>\n",
       "      <td>69.866667</td>\n",
       "      <td>71.819048</td>\n",
       "      <td>72.266667</td>\n",
       "    </tr>\n",
       "    <tr>\n",
       "      <th>1</th>\n",
       "      <td>Diploma de mestrado</td>\n",
       "      <td>71.026667</td>\n",
       "      <td>71.973333</td>\n",
       "      <td>71.746667</td>\n",
       "    </tr>\n",
       "    <tr>\n",
       "      <th>2</th>\n",
       "      <td>Ensino médio</td>\n",
       "      <td>65.381395</td>\n",
       "      <td>69.223256</td>\n",
       "      <td>66.772093</td>\n",
       "    </tr>\n",
       "    <tr>\n",
       "      <th>3</th>\n",
       "      <td>Ensino médio (completo ou não)</td>\n",
       "      <td>64.197740</td>\n",
       "      <td>66.943503</td>\n",
       "      <td>65.293785</td>\n",
       "    </tr>\n",
       "    <tr>\n",
       "      <th>4</th>\n",
       "      <td>Graduação técnica</td>\n",
       "      <td>70.348039</td>\n",
       "      <td>72.647059</td>\n",
       "      <td>72.039216</td>\n",
       "    </tr>\n",
       "    <tr>\n",
       "      <th>5</th>\n",
       "      <td>Iniciou alguma faculdade</td>\n",
       "      <td>68.642857</td>\n",
       "      <td>70.941964</td>\n",
       "      <td>69.473214</td>\n",
       "    </tr>\n",
       "  </tbody>\n",
       "</table>\n",
       "</div>"
      ],
      "text/plain": [
       "          Nivel_Educacao_dos_Pais  Pontos_Matematica  Pontos_Leitura  \\\n",
       "0             Diploma de bacharel          69.866667       71.819048   \n",
       "1             Diploma de mestrado          71.026667       71.973333   \n",
       "2                    Ensino médio          65.381395       69.223256   \n",
       "3  Ensino médio (completo ou não)          64.197740       66.943503   \n",
       "4               Graduação técnica          70.348039       72.647059   \n",
       "5        Iniciou alguma faculdade          68.642857       70.941964   \n",
       "\n",
       "   Pontos_Escrita  \n",
       "0       72.266667  \n",
       "1       71.746667  \n",
       "2       66.772093  \n",
       "3       65.293785  \n",
       "4       72.039216  \n",
       "5       69.473214  "
      ]
     },
     "execution_count": 49,
     "metadata": {},
     "output_type": "execute_result"
    }
   ],
   "source": [
    "media_nivel"
   ]
  },
  {
   "cell_type": "code",
   "execution_count": 50,
   "id": "ec244e34-27bb-4796-9173-b30a9267ad89",
   "metadata": {},
   "outputs": [],
   "source": [
    "media_nivel['Média_Geral_Pontos'] =  round(media_nivel[['Pontos_Matematica', 'Pontos_Leitura', 'Pontos_Escrita']].mean(axis=1),2)"
   ]
  },
  {
   "cell_type": "code",
   "execution_count": 51,
   "id": "45344452-7956-40b6-af64-67836692a94f",
   "metadata": {},
   "outputs": [],
   "source": [
    "media_nivel = round(media_nivel,2)"
   ]
  },
  {
   "cell_type": "code",
   "execution_count": 52,
   "id": "0137819d-f6d9-4532-afb5-247cb09e0a12",
   "metadata": {},
   "outputs": [
    {
     "data": {
      "text/html": [
       "<div>\n",
       "<style scoped>\n",
       "    .dataframe tbody tr th:only-of-type {\n",
       "        vertical-align: middle;\n",
       "    }\n",
       "\n",
       "    .dataframe tbody tr th {\n",
       "        vertical-align: top;\n",
       "    }\n",
       "\n",
       "    .dataframe thead th {\n",
       "        text-align: right;\n",
       "    }\n",
       "</style>\n",
       "<table border=\"1\" class=\"dataframe\">\n",
       "  <thead>\n",
       "    <tr style=\"text-align: right;\">\n",
       "      <th></th>\n",
       "      <th>Nivel_Educacao_dos_Pais</th>\n",
       "      <th>Pontos_Matematica</th>\n",
       "      <th>Pontos_Leitura</th>\n",
       "      <th>Pontos_Escrita</th>\n",
       "      <th>Média_Geral_Pontos</th>\n",
       "    </tr>\n",
       "  </thead>\n",
       "  <tbody>\n",
       "    <tr>\n",
       "      <th>3</th>\n",
       "      <td>Ensino médio (completo ou não)</td>\n",
       "      <td>64.20</td>\n",
       "      <td>66.94</td>\n",
       "      <td>65.29</td>\n",
       "      <td>65.48</td>\n",
       "    </tr>\n",
       "    <tr>\n",
       "      <th>2</th>\n",
       "      <td>Ensino médio</td>\n",
       "      <td>65.38</td>\n",
       "      <td>69.22</td>\n",
       "      <td>66.77</td>\n",
       "      <td>67.13</td>\n",
       "    </tr>\n",
       "    <tr>\n",
       "      <th>5</th>\n",
       "      <td>Iniciou alguma faculdade</td>\n",
       "      <td>68.64</td>\n",
       "      <td>70.94</td>\n",
       "      <td>69.47</td>\n",
       "      <td>69.69</td>\n",
       "    </tr>\n",
       "    <tr>\n",
       "      <th>0</th>\n",
       "      <td>Diploma de bacharel</td>\n",
       "      <td>69.87</td>\n",
       "      <td>71.82</td>\n",
       "      <td>72.27</td>\n",
       "      <td>71.32</td>\n",
       "    </tr>\n",
       "    <tr>\n",
       "      <th>1</th>\n",
       "      <td>Diploma de mestrado</td>\n",
       "      <td>71.03</td>\n",
       "      <td>71.97</td>\n",
       "      <td>71.75</td>\n",
       "      <td>71.58</td>\n",
       "    </tr>\n",
       "    <tr>\n",
       "      <th>4</th>\n",
       "      <td>Graduação técnica</td>\n",
       "      <td>70.35</td>\n",
       "      <td>72.65</td>\n",
       "      <td>72.04</td>\n",
       "      <td>71.68</td>\n",
       "    </tr>\n",
       "  </tbody>\n",
       "</table>\n",
       "</div>"
      ],
      "text/plain": [
       "          Nivel_Educacao_dos_Pais  Pontos_Matematica  Pontos_Leitura  \\\n",
       "3  Ensino médio (completo ou não)              64.20           66.94   \n",
       "2                    Ensino médio              65.38           69.22   \n",
       "5        Iniciou alguma faculdade              68.64           70.94   \n",
       "0             Diploma de bacharel              69.87           71.82   \n",
       "1             Diploma de mestrado              71.03           71.97   \n",
       "4               Graduação técnica              70.35           72.65   \n",
       "\n",
       "   Pontos_Escrita  Média_Geral_Pontos  \n",
       "3           65.29               65.48  \n",
       "2           66.77               67.13  \n",
       "5           69.47               69.69  \n",
       "0           72.27               71.32  \n",
       "1           71.75               71.58  \n",
       "4           72.04               71.68  "
      ]
     },
     "execution_count": 52,
     "metadata": {},
     "output_type": "execute_result"
    }
   ],
   "source": [
    "media_nivel.sort_values(by='Média_Geral_Pontos', ascending=True, inplace=True)\n",
    "media_nivel"
   ]
  },
  {
   "cell_type": "code",
   "execution_count": 53,
   "id": "c7e2d298-3409-4fd8-945d-b21e98cdd7c5",
   "metadata": {},
   "outputs": [],
   "source": [
    "# Criando as Labels para usar no gráfico\n",
    "\n",
    "labels = ['Ensino Médio \\nCompleto ou não',\n",
    "          'Ensino Médio',\n",
    "          'Iniciou alguma \\nFaculdade',\n",
    "          'Diploma \\nBacharel',\n",
    "          'Diploma \\nMestrado',\n",
    "          'Graduação \\nTécnica'\n",
    "          ]"
   ]
  },
  {
   "cell_type": "code",
   "execution_count": 54,
   "id": "98b4e847-275c-4a9b-8815-c0c5bdede85a",
   "metadata": {},
   "outputs": [],
   "source": [
    "# adicionando as cores nas variaveis\n",
    "\n",
    "cinza_claro = \"#CFCDCE\"\n",
    "cinza_medio = \"#A2A1A3\"\n",
    "cinza_escuro = \"#787878\"\n",
    "azul_claro = \"8db7eb\"\n",
    "azul_escuro = \"#253760\""
   ]
  },
  {
   "cell_type": "code",
   "execution_count": 55,
   "id": "02b3bef5-65a3-42ce-963e-ce55fe035af9",
   "metadata": {},
   "outputs": [],
   "source": [
    "# função para dar rótulo de dados no gráfico (números com as qtd)\n",
    "\n",
    "def set_label_y_in_bar(bars):\n",
    "    for bar in bars:\n",
    "        height = bar.get_height()\n",
    "        text_offset = height * 0.1\n",
    "        ax.text(\n",
    "            bar.get_x() + bar.get_width() / 2, \n",
    "            height - text_offset,\n",
    "            f'{height:.0f}',\n",
    "            ha='center',\n",
    "            va='bottom',\n",
    "            fontsize=9,\n",
    "            color= 'white'\n",
    "        )"
   ]
  },
  {
   "cell_type": "code",
   "execution_count": 56,
   "id": "9e1ae573-8df8-4b4f-904e-1957eb7f17eb",
   "metadata": {},
   "outputs": [
    {
     "data": {
      "image/png": "[encoded data removed]",
      "text/plain": [
       "<Figure size 1000x500 with 1 Axes>"
      ]
     },
     "metadata": {},
     "output_type": "display_data"
    }
   ],
   "source": [
    "#Largura das barras e a posição\n",
    "width_bar = 0.18\n",
    "index = np.arange(len(media_nivel['Nivel_Educacao_dos_Pais']))\n",
    "\n",
    "#criando figura e eixo para grafico de barras\n",
    "fig, ax = plt.subplots(figsize=(10,5))\n",
    "\n",
    "# Plotar as barras\n",
    "bar_mat = ax.bar(index - 1.5 * width_bar, media_nivel['Pontos_Matematica'], width_bar, color = cinza_claro, label = 'Matematica')\n",
    "bar_leit = ax.bar(index - 0.5 * width_bar, media_nivel['Pontos_Leitura'], width_bar, color = cinza_medio, label = 'Leitura')\n",
    "bar_esc = ax.bar(index + 0.5 * width_bar, media_nivel['Pontos_Escrita'], width_bar, color = cinza_escuro, label = 'Escrita')\n",
    "bar_media = ax.bar(index + 1.5 * width_bar, media_nivel['Média_Geral_Pontos'], width_bar, color = azul_escuro, label = 'Média Geral')\n",
    "\n",
    "# Remover grids e eixos (usado uma lista com todos os lados, mas poderia passar um por vez\n",
    "ax.spines[['right', 'left', 'top', 'bottom']].set_visible(False)\n",
    "\n",
    "#Remover eixos\n",
    "plt.gca().axes.get_yaxis().set_visible(False)\n",
    "#plt.gca().axes.get_xaxis().set_visible(False) aqui está ficando com o grid\n",
    "\n",
    "#labels do eixo\n",
    "ax.set_xticks(index)\n",
    "ax.set_xticklabels(labels)\n",
    "\n",
    "\n",
    "# Titulo do gráfico\n",
    "plt.text(x=0.95,\n",
    "        y=95,\n",
    "        s='Pontuação por nível de educação dos Pais',\n",
    "        fontsize=16,\n",
    "        color=cinza_escuro,\n",
    "        weight='bold')\n",
    "\n",
    "\n",
    "# Adicionando rótulo de dados (usando função)\n",
    "set_label_y_in_bar(bar_mat)\n",
    "set_label_y_in_bar(bar_leit)\n",
    "set_label_y_in_bar(bar_esc)\n",
    "set_label_y_in_bar(bar_media)\n",
    "\n",
    "\n",
    "ax.legend(loc= 'upper left', bbox_to_anchor=(1,1))\n",
    "\n",
    "#Ajuste layout\n",
    "plt.tight_layout()\n",
    "\n",
    "plt.show()"
   ]
  },
  {
   "cell_type": "markdown",
   "id": "b7567784-4f28-4cf1-8410-556bd39c5485",
   "metadata": {},
   "source": [
    "- É possível identificar que quanto maior o nível de educação dos pais maior foi a média de pontuação dos alunos.  \n",
    "**Obs.** Não sigifica que o nível de educação dos pais seja a causa do aumento na pontuação, pois podem ter diversos fatores externos que podem influenciar neste resultado"
   ]
  }
 ],
 "metadata": {
  "kernelspec": {
   "display_name": "Python 3 (ipykernel)",
   "language": "python",
   "name": "python3"
  },
  "language_info": {
   "codemirror_mode": {
    "name": "ipython",
    "version": 3
   },
   "file_extension": ".py",
   "mimetype": "text/x-python",
   "name": "python",
   "nbconvert_exporter": "python",
   "pygments_lexer": "ipython3",
   "version": "3.11.7"
  }
 },
 "nbformat": 4,
 "nbformat_minor": 5
}
